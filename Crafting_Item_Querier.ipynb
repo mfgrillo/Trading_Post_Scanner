{
 "cells": [
  {
   "cell_type": "code",
   "execution_count": 161,
   "metadata": {},
   "outputs": [],
   "source": [
    "import requests\n",
    "\n",
    "class CraftingItem:\n",
    "    # Hard-coded recipe IDs for specific item IDs\n",
    "    HARDCODED_RECIPES = {\n",
    "        97339: 13584,  # Core tier 1\n",
    "        97041: 13542,  # Core tier 2\n",
    "        97284: 13550,  # Core tier 3\n",
    "        96628: 13821,  # Core tier 4\n",
    "        95864: 13658,  # Core tier 5\n",
    "        96467: 13723,  # Core tier 6\n",
    "        97020: 13751,  # Core tier 7\n",
    "        96299: 13780,  # Core tier 8\n",
    "        96070: 13841,  # Core tier 9\n",
    "        96613: 13628  # Core tier 10\n",
    "    }\n",
    "\n",
    "    def __init__(self, item_id):\n",
    "        self.item_id = item_id\n",
    "        self.base_ingredients = {}  # Children items and their quantities\n",
    "        self.recipe_id = None  # Recipe ID for this item\n",
    "        self.recipe_data = None  # Full recipe data from the API\n",
    "\n",
    "    @staticmethod\n",
    "    def api_querier(url, params=None):\n",
    "        \"\"\"Static method to query the Guild Wars 2 API.\"\"\"\n",
    "        response = requests.get(url, params=params)\n",
    "\n",
    "        if response.status_code == 200:\n",
    "            return response.json()\n",
    "        else:\n",
    "            raise Exception(f\"API request failed with status code {response.status_code}: {response.text}\")\n",
    "\n",
    "    def get_recipe_id(self):\n",
    "        \"\"\"Fetch the recipe ID for this item.\"\"\"\n",
    "        # Check if the item ID has a hard-coded recipe ID\n",
    "        if self.item_id in self.HARDCODED_RECIPES:\n",
    "            self.recipe_id = self.HARDCODED_RECIPES[self.item_id]\n",
    "            return self.recipe_id\n",
    "\n",
    "        # Otherwise, query the API\n",
    "        url = f\"https://api.guildwars2.com/v2/recipes/search?output={self.item_id}\"\n",
    "        response = self.api_querier(url)\n",
    "\n",
    "        if not response:\n",
    "            return False\n",
    "        else:\n",
    "            self.recipe_id = response[0]  # Store the first recipe ID\n",
    "            # print(self.recipe_id)\n",
    "            return self.recipe_id\n",
    "\n",
    "    def get_recipe_data(self):\n",
    "        \"\"\"Fetch and store the full recipe data for this item.\"\"\"\n",
    "        if not self.recipe_id:\n",
    "            self.get_recipe_id()  # Ensure we have a recipe ID\n",
    "\n",
    "        if self.recipe_id:\n",
    "            url = f\"https://api.guildwars2.com/v2/recipes?ids={self.recipe_id}&v=latest&lang=en\"\n",
    "            self.recipe_data = self.api_querier(url)[0]\n",
    "\n",
    "            # print(self.recipe_data[0][\"ingredients\"])\n",
    "\n",
    "            return self.recipe_data\n",
    "        else:\n",
    "            return False\n",
    "\n",
    "    def fetch_ingredients(self):\n",
    "        \"\"\"\n",
    "        Fetch the ingredients (children) for this item from the API.\n",
    "        If the item has no recipe, it is considered a base (gatherable) item.\n",
    "        \"\"\"\n",
    "        if not self.recipe_data:\n",
    "            self.get_recipe_data()  # Ensure we have recipe data\n",
    "\n",
    "        if self.recipe_data and \"ingredients\" in self.recipe_data:\n",
    "            # Add children (base ingredients) to this item\n",
    "            for ingredient in self.recipe_data[\"ingredients\"]:\n",
    "                # if CraftingItem(ingredient[\"type\"]) == \"Item\":\n",
    "                # print(ingredient)\n",
    "                # print(ingredient[\"type\"])\n",
    "                if ingredient[\"type\"] in ['Item', 'Currency']:\n",
    "                    # print(ingredient[\"type\"])\n",
    "                    child_item = CraftingItem(ingredient[\"id\"])\n",
    "                    child_item.fetch_ingredients()  # Recursively fetch children\n",
    "                    self.base_ingredients[child_item] = ingredient[\"count\"]\n",
    "        else:\n",
    "            # This is a base (gatherable) item with no children\n",
    "            self.base_ingredients = {}\n",
    "\n",
    "    def get_total_ingredients(self):\n",
    "        \"\"\"\n",
    "        Recursively calculate the total base (gatherable) ingredients required to craft this item.\n",
    "        \"\"\"\n",
    "        total_ingredients = {}\n",
    "\n",
    "        for child, quantity in self.base_ingredients.items():\n",
    "            if child.base_ingredients:\n",
    "                # If the child has its own ingredients, recurse\n",
    "                child_ingredients = child.get_total_ingredients()\n",
    "                for item_id, count in child_ingredients.items():\n",
    "                    if item_id in total_ingredients:\n",
    "                        total_ingredients[item_id] += count * quantity\n",
    "                    else:\n",
    "                        total_ingredients[item_id] = count * quantity\n",
    "            else:\n",
    "                # If the child is a base (gatherable) item, add it to the total\n",
    "                if child.item_id in total_ingredients:\n",
    "                    total_ingredients[child.item_id] += quantity\n",
    "                else:\n",
    "                    total_ingredients[child.item_id] = quantity\n",
    "\n",
    "        return total_ingredients\n",
    "\n",
    "    def __repr__(self):\n",
    "        return f\"CraftingItem(item_id={self.item_id}, recipe_id={self.recipe_id}, base_ingredients={self.base_ingredients})\""
   ]
  },
  {
   "cell_type": "code",
   "execution_count": 146,
   "metadata": {},
   "outputs": [],
   "source": [
    "carrion_helmet = CraftingItem(10675)\n",
    "\n",
    "if carrion_helmet.recipe_data and \"ingredients\" in carrion_helmet.recipe_data:\n",
    "    print(\"yay\")"
   ]
  },
  {
   "cell_type": "code",
   "execution_count": 147,
   "metadata": {},
   "outputs": [
    {
     "data": {
      "text/plain": [
       "{'id': 718,\n",
       " 'type': 'Helm',\n",
       " 'output_item_id': 10675,\n",
       " 'output_item_count': 1,\n",
       " 'time_to_craft_ms': 1000,\n",
       " 'disciplines': ['Armorsmith'],\n",
       " 'min_rating': 300,\n",
       " 'flags': [],\n",
       " 'ingredients': [{'type': 'Item', 'id': 19865, 'count': 1},\n",
       "  {'type': 'Item', 'id': 13155, 'count': 1},\n",
       "  {'type': 'Item', 'id': 13154, 'count': 1}],\n",
       " 'chat_link': '[&Cc4CAAA=]'}"
      ]
     },
     "execution_count": 147,
     "metadata": {},
     "output_type": "execute_result"
    }
   ],
   "source": [
    "carrion_helmet.get_recipe_data()\n",
    "\n",
    "carrion_helmet.recipe_data"
   ]
  },
  {
   "cell_type": "code",
   "execution_count": 148,
   "metadata": {},
   "outputs": [
    {
     "data": {
      "text/plain": [
       "{CraftingItem(item_id=19865, recipe_id=90, base_ingredients={CraftingItem(item_id=19747, recipe_id=8, base_ingredients={CraftingItem(item_id=19748, recipe_id=None, base_ingredients={}): 3}): 1, CraftingItem(item_id=24341, recipe_id=None, base_ingredients={}): 3}): 1,\n",
       " CraftingItem(item_id=13155, recipe_id=559, base_ingredients={CraftingItem(item_id=19684, recipe_id=18, base_ingredients={CraftingItem(item_id=19700, recipe_id=None, base_ingredients={}): 2}): 1}): 1,\n",
       " CraftingItem(item_id=13154, recipe_id=556, base_ingredients={CraftingItem(item_id=19747, recipe_id=8, base_ingredients={CraftingItem(item_id=19748, recipe_id=None, base_ingredients={}): 3}): 2, CraftingItem(item_id=19791, recipe_id=None, base_ingredients={}): 1}): 1}"
      ]
     },
     "execution_count": 148,
     "metadata": {},
     "output_type": "execute_result"
    }
   ],
   "source": [
    "carrion_helmet.fetch_ingredients()\n",
    "\n",
    "carrion_helmet.base_ingredients"
   ]
  },
  {
   "cell_type": "code",
   "execution_count": 151,
   "metadata": {},
   "outputs": [
    {
     "name": "stdout",
     "output_type": "stream",
     "text": [
      "Total Base Ingredients: {19748: 9, 24341: 3, 19700: 2, 19791: 1}\n"
     ]
    }
   ],
   "source": [
    "carrion_helmet = CraftingItem(10675)\n",
    "\n",
    "\n",
    "# Fetch the ingredients for the sword and its children\n",
    "carrion_helmet.fetch_ingredients()\n",
    "\n",
    "# Get the total base (gatherable) ingredients required to craft the sword\n",
    "total_ingredients = carrion_helmet.get_total_ingredients()\n",
    "print(\"Total Base Ingredients:\", total_ingredients)"
   ]
  },
  {
   "cell_type": "code",
   "execution_count": 160,
   "metadata": {},
   "outputs": [
    {
     "name": "stdout",
     "output_type": "stream",
     "text": [
      "Total Base Ingredients: {61: 193, 19697: 70, 19704: 5, 97487: 6, 19699: 150, 19703: 50, 19750: 25, 19698: 50}\n"
     ]
    }
   ],
   "source": [
    "jade_core_6 = CraftingItem(96467)\n",
    "\n",
    "jade_core_6.recipe_id = 13723\n",
    "\n",
    "# Fetch the ingredients for the sword and its children\n",
    "jade_core_6.fetch_ingredients()\n",
    "\n",
    "# Get the total base (gatherable) ingredients required to craft the sword\n",
    "total_ingredients = jade_core_6.get_total_ingredients()\n",
    "print(\"Total Base Ingredients:\", total_ingredients)"
   ]
  },
  {
   "cell_type": "code",
   "execution_count": 38,
   "metadata": {},
   "outputs": [],
   "source": [
    "test = {'id': 718, 'type': 'Helm', 'output_item_id': 10675, 'output_item_count': 1, 'time_to_craft_ms': 1000, 'disciplines': ['Armorsmith'], 'min_rating': 300, 'flags': [], 'ingredients': [{'type': 'Item', 'id': 19865, 'count': 1}, {'type': 'Item', 'id': 13155, 'count': 1}, {'type': 'Item', 'id': 13154, 'count': 1}], 'chat_link': '[&Cc4CAAA=]'}"
   ]
  },
  {
   "cell_type": "code",
   "execution_count": 40,
   "metadata": {},
   "outputs": [
    {
     "data": {
      "text/plain": [
       "[{'type': 'Item', 'id': 19865, 'count': 1},\n",
       " {'type': 'Item', 'id': 13155, 'count': 1},\n",
       " {'type': 'Item', 'id': 13154, 'count': 1}]"
      ]
     },
     "execution_count": 40,
     "metadata": {},
     "output_type": "execute_result"
    }
   ],
   "source": [
    "test['ingredients']"
   ]
  },
  {
   "cell_type": "code",
   "execution_count": 46,
   "metadata": {},
   "outputs": [
    {
     "name": "stdout",
     "output_type": "stream",
     "text": [
      "Item\n",
      "1\n",
      "Item\n",
      "1\n",
      "Item\n",
      "1\n"
     ]
    }
   ],
   "source": [
    "for ingredient in test[\"ingredients\"]:\n",
    "    print(ingredient[\"type\"])\n",
    "    if ingredient[\"type\"] == 'Item':\n",
    "        print(1)"
   ]
  },
  {
   "cell_type": "code",
   "execution_count": 43,
   "metadata": {},
   "outputs": [
    {
     "data": {
      "text/plain": [
       "'Item'"
      ]
     },
     "execution_count": 43,
     "metadata": {},
     "output_type": "execute_result"
    }
   ],
   "source": [
    "test['ingredients'][0]['type']"
   ]
  },
  {
   "cell_type": "code",
   "execution_count": 10,
   "metadata": {},
   "outputs": [],
   "source": [
    "total_ingredients = carrion_helmet.get_total_ingredients()"
   ]
  },
  {
   "cell_type": "code",
   "execution_count": 13,
   "metadata": {},
   "outputs": [
    {
     "data": {
      "text/plain": [
       "{19865: 1, 13155: 1, 13154: 1}"
      ]
     },
     "execution_count": 13,
     "metadata": {},
     "output_type": "execute_result"
    }
   ],
   "source": [
    "total_ingredients"
   ]
  },
  {
   "cell_type": "code",
   "execution_count": null,
   "metadata": {},
   "outputs": [],
   "source": []
  }
 ],
 "metadata": {
  "kernelspec": {
   "display_name": "base",
   "language": "python",
   "name": "python3"
  },
  "language_info": {
   "codemirror_mode": {
    "name": "ipython",
    "version": 3
   },
   "file_extension": ".py",
   "mimetype": "text/x-python",
   "name": "python",
   "nbconvert_exporter": "python",
   "pygments_lexer": "ipython3",
   "version": "3.12.4"
  }
 },
 "nbformat": 4,
 "nbformat_minor": 2
}
